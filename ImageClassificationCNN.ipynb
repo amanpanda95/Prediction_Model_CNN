{
 "cells": [
  {
   "cell_type": "markdown",
   "metadata": {},
   "source": [
    "Importing the Libraries"
   ]
  },
  {
   "cell_type": "code",
   "execution_count": 2,
   "metadata": {},
   "outputs": [],
   "source": [
    "import tensorflow as tf\n",
    "from tensorflow.keras.preprocessing.image import ImageDataGenerator"
   ]
  },
  {
   "cell_type": "code",
   "execution_count": 3,
   "metadata": {},
   "outputs": [
    {
     "data": {
      "text/plain": [
       "'2.17.0'"
      ]
     },
     "execution_count": 3,
     "metadata": {},
     "output_type": "execute_result"
    }
   ],
   "source": [
    "tf.__version__"
   ]
  },
  {
   "cell_type": "markdown",
   "metadata": {},
   "source": [
    "### Part1: Data Preprocessing"
   ]
  },
  {
   "cell_type": "markdown",
   "metadata": {},
   "source": [
    "Preprocessing Training Set"
   ]
  },
  {
   "cell_type": "markdown",
   "metadata": {},
   "source": [
    "Transformation on Training set to avoid Overfitting.\n",
    "- Tranformation like trasvections to shift some of the pixels.\n",
    "- Rotating the images.\n",
    "- Horizontal Flips.\n",
    "- Zoom in and Zoom out.\n",
    "\n",
    "Doing all this would lead to Image Augmentation.so that the CNN will not over learn the training set due to the variety of images."
   ]
  },
  {
   "cell_type": "code",
   "execution_count": 4,
   "metadata": {},
   "outputs": [
    {
     "name": "stdout",
     "output_type": "stream",
     "text": [
      "Found 8000 images belonging to 2 classes.\n"
     ]
    }
   ],
   "source": [
    "train_datagen = ImageDataGenerator(\n",
    "        rescale=1./255, # Each pixel varies from 0 to 255, dividing 255 will normalize the feature or scale down the feature to 0 to 1.\n",
    "        shear_range=0.2,\n",
    "        zoom_range=0.2,\n",
    "        horizontal_flip=True)\n",
    "\n",
    "training_set = train_datagen.flow_from_directory(\n",
    "    'dataset/training_set',\n",
    "    target_size = (64,64),\n",
    "    batch_size = 32,\n",
    "    class_mode = 'binary')"
   ]
  },
  {
   "cell_type": "markdown",
   "metadata": {},
   "source": [
    "ImageDataGenerator class will generate batches of tensor image data with real-time augmentation"
   ]
  },
  {
   "cell_type": "markdown",
   "metadata": {},
   "source": [
    "Preprocessing Test Set"
   ]
  },
  {
   "cell_type": "code",
   "execution_count": 5,
   "metadata": {},
   "outputs": [
    {
     "name": "stdout",
     "output_type": "stream",
     "text": [
      "Found 2000 images belonging to 2 classes.\n"
     ]
    }
   ],
   "source": [
    "test_datagen = ImageDataGenerator(rescale=1./255) # Test set only to be scaled not to be rotated,fliped or zoomed\n",
    "test_set = test_datagen.flow_from_directory(\n",
    "    'dataset/test_set',\n",
    "    target_size= (64, 64),\n",
    "    batch_size = 32,\n",
    "    class_mode = 'binary')"
   ]
  },
  {
   "cell_type": "markdown",
   "metadata": {},
   "source": [
    "### Part2: Building the CNN"
   ]
  },
  {
   "cell_type": "markdown",
   "metadata": {},
   "source": [
    "Initializing the CNN"
   ]
  },
  {
   "cell_type": "code",
   "execution_count": 7,
   "metadata": {},
   "outputs": [],
   "source": [
    "cnn = tf.keras.models.Sequential()"
   ]
  },
  {
   "cell_type": "markdown",
   "metadata": {},
   "source": [
    "step1: Convolution"
   ]
  },
  {
   "cell_type": "code",
   "execution_count": 10,
   "metadata": {},
   "outputs": [
    {
     "name": "stderr",
     "output_type": "stream",
     "text": [
      "c:\\Users\\SVCS\\AppData\\Local\\Programs\\Python\\Python312\\Lib\\site-packages\\keras\\src\\layers\\convolutional\\base_conv.py:107: UserWarning: Do not pass an `input_shape`/`input_dim` argument to a layer. When using Sequential models, prefer using an `Input(shape)` object as the first layer in the model instead.\n",
      "  super().__init__(activity_regularizer=activity_regularizer, **kwargs)\n"
     ]
    }
   ],
   "source": [
    "cnn.add(tf.keras.layers.Conv2D(filters = 32, kernel_size = 3, activation = 'relu', input_shape = [64,64,3]))"
   ]
  },
  {
   "cell_type": "markdown",
   "metadata": {},
   "source": [
    "- filters = 32 is highly used but can do experimentation.\n",
    "- kernel size is size of feature detector i.e. 2 for 2x2 matrix and 3 for 3x3 matrix\n",
    "- input_shape suggest the Kind of inputs to be expected as [64,64,3]. Here 64,64 suggests pixel size and 3 suggets color code for RGB (2 for B/W)"
   ]
  },
  {
   "cell_type": "markdown",
   "metadata": {},
   "source": [
    "step2: Pooling"
   ]
  },
  {
   "cell_type": "code",
   "execution_count": 11,
   "metadata": {},
   "outputs": [],
   "source": [
    "cnn.add(tf.keras.layers.MaxPool2D(pool_size = 2, strides = 2))"
   ]
  },
  {
   "cell_type": "markdown",
   "metadata": {},
   "source": [
    "step3: Additional Convolutional layer"
   ]
  },
  {
   "cell_type": "code",
   "execution_count": 13,
   "metadata": {},
   "outputs": [],
   "source": [
    "cnn.add(tf.keras.layers.Conv2D(filters = 32, kernel_size = 3, activation = 'relu'))\n",
    "# Remember to add pooling as well\n",
    "cnn.add(tf.keras.layers.MaxPool2D(pool_size = 2, strides = 2))"
   ]
  },
  {
   "cell_type": "markdown",
   "metadata": {},
   "source": [
    "step4: Flattening"
   ]
  },
  {
   "cell_type": "code",
   "execution_count": 15,
   "metadata": {},
   "outputs": [],
   "source": [
    "cnn.add(tf.keras.layers.Flatten())"
   ]
  },
  {
   "cell_type": "markdown",
   "metadata": {},
   "source": [
    "step5: Combination of all"
   ]
  },
  {
   "cell_type": "code",
   "execution_count": 16,
   "metadata": {},
   "outputs": [],
   "source": [
    "cnn.add(tf.keras.layers.Dense(units = 128, activation = 'relu'))"
   ]
  },
  {
   "cell_type": "markdown",
   "metadata": {},
   "source": [
    "step: Output Layer"
   ]
  },
  {
   "cell_type": "code",
   "execution_count": 17,
   "metadata": {},
   "outputs": [],
   "source": [
    "cnn.add(tf.keras.layers.Dense(units = 1, activation = 'sigmoid'))"
   ]
  },
  {
   "cell_type": "markdown",
   "metadata": {},
   "source": [
    "### Part3: Training the CNN"
   ]
  },
  {
   "cell_type": "markdown",
   "metadata": {},
   "source": [
    "Compiling the CNN\n",
    "- Optimizer algorithm is used to adjust the weights to minimize the loss\n",
    "- adam : Adaptive Moment Estimation inshort 'adam' is a popular optimizer that combines the benefit of both AdaGrad and RMSProp optimizers and adapts the learning rate for each parameter. It is efficient for large dataset and requires minimal tuning.\n",
    "- binary_crossentropy typically used for binary classification"
   ]
  },
  {
   "cell_type": "code",
   "execution_count": 19,
   "metadata": {},
   "outputs": [],
   "source": [
    "cnn.compile(optimizer= 'adam', loss= 'binary_crossentropy', metrics= ['accuracy', 'Precision', 'Recall', 'AUC'])"
   ]
  },
  {
   "cell_type": "markdown",
   "metadata": {},
   "source": [
    "Training the CNN on training_set and evalutating on test set"
   ]
  },
  {
   "cell_type": "code",
   "execution_count": 20,
   "metadata": {},
   "outputs": [
    {
     "name": "stderr",
     "output_type": "stream",
     "text": [
      "c:\\Users\\SVCS\\AppData\\Local\\Programs\\Python\\Python312\\Lib\\site-packages\\keras\\src\\trainers\\data_adapters\\py_dataset_adapter.py:121: UserWarning: Your `PyDataset` class should call `super().__init__(**kwargs)` in its constructor. `**kwargs` can include `workers`, `use_multiprocessing`, `max_queue_size`. Do not pass these arguments to `fit()`, as they will be ignored.\n",
      "  self._warn_if_super_not_called()\n"
     ]
    },
    {
     "name": "stdout",
     "output_type": "stream",
     "text": [
      "Epoch 1/25\n",
      "\u001b[1m250/250\u001b[0m \u001b[32m━━━━━━━━━━━━━━━━━━━━\u001b[0m\u001b[37m\u001b[0m \u001b[1m0s\u001b[0m 662ms/step - AUC: 0.5425 - Precision: 0.5126 - Recall: 0.4814 - accuracy: 0.5264 - loss: 0.6907"
     ]
    },
    {
     "name": "stderr",
     "output_type": "stream",
     "text": [
      "c:\\Users\\SVCS\\AppData\\Local\\Programs\\Python\\Python312\\Lib\\site-packages\\keras\\src\\trainers\\data_adapters\\py_dataset_adapter.py:121: UserWarning: Your `PyDataset` class should call `super().__init__(**kwargs)` in its constructor. `**kwargs` can include `workers`, `use_multiprocessing`, `max_queue_size`. Do not pass these arguments to `fit()`, as they will be ignored.\n",
      "  self._warn_if_super_not_called()\n"
     ]
    },
    {
     "name": "stdout",
     "output_type": "stream",
     "text": [
      "\u001b[1m250/250\u001b[0m \u001b[32m━━━━━━━━━━━━━━━━━━━━\u001b[0m\u001b[37m\u001b[0m \u001b[1m204s\u001b[0m 795ms/step - AUC: 0.5427 - Precision: 0.5128 - Recall: 0.4819 - accuracy: 0.5265 - loss: 0.6906 - val_AUC: 0.6905 - val_Precision: 0.5678 - val_Recall: 0.8420 - val_accuracy: 0.6005 - val_loss: 0.6508\n",
      "Epoch 2/25\n",
      "\u001b[1m250/250\u001b[0m \u001b[32m━━━━━━━━━━━━━━━━━━━━\u001b[0m\u001b[37m\u001b[0m \u001b[1m50s\u001b[0m 199ms/step - AUC: 0.6858 - Precision: 0.6246 - Recall: 0.6411 - accuracy: 0.6324 - loss: 0.6385 - val_AUC: 0.7569 - val_Precision: 0.5845 - val_Recall: 0.8990 - val_accuracy: 0.6300 - val_loss: 0.6612\n",
      "Epoch 3/25\n",
      "\u001b[1m250/250\u001b[0m \u001b[32m━━━━━━━━━━━━━━━━━━━━\u001b[0m\u001b[37m\u001b[0m \u001b[1m52s\u001b[0m 210ms/step - AUC: 0.7493 - Precision: 0.6757 - Recall: 0.7087 - accuracy: 0.6814 - loss: 0.5942 - val_AUC: 0.7976 - val_Precision: 0.6834 - val_Recall: 0.8010 - val_accuracy: 0.7150 - val_loss: 0.5617\n",
      "Epoch 4/25\n",
      "\u001b[1m250/250\u001b[0m \u001b[32m━━━━━━━━━━━━━━━━━━━━\u001b[0m\u001b[37m\u001b[0m \u001b[1m59s\u001b[0m 236ms/step - AUC: 0.7890 - Precision: 0.7196 - Recall: 0.7231 - accuracy: 0.7163 - loss: 0.5566 - val_AUC: 0.8111 - val_Precision: 0.6600 - val_Recall: 0.8540 - val_accuracy: 0.7070 - val_loss: 0.5629\n",
      "Epoch 5/25\n",
      "\u001b[1m250/250\u001b[0m \u001b[32m━━━━━━━━━━━━━━━━━━━━\u001b[0m\u001b[37m\u001b[0m \u001b[1m68s\u001b[0m 269ms/step - AUC: 0.8126 - Precision: 0.7364 - Recall: 0.7369 - accuracy: 0.7368 - loss: 0.5293 - val_AUC: 0.8401 - val_Precision: 0.7140 - val_Recall: 0.8340 - val_accuracy: 0.7500 - val_loss: 0.5073\n",
      "Epoch 6/25\n",
      "\u001b[1m250/250\u001b[0m \u001b[32m━━━━━━━━━━━━━━━━━━━━\u001b[0m\u001b[37m\u001b[0m \u001b[1m73s\u001b[0m 292ms/step - AUC: 0.8418 - Precision: 0.7562 - Recall: 0.7546 - accuracy: 0.7582 - loss: 0.4932 - val_AUC: 0.8513 - val_Precision: 0.7773 - val_Recall: 0.7470 - val_accuracy: 0.7665 - val_loss: 0.4798\n",
      "Epoch 7/25\n",
      "\u001b[1m250/250\u001b[0m \u001b[32m━━━━━━━━━━━━━━━━━━━━\u001b[0m\u001b[37m\u001b[0m \u001b[1m75s\u001b[0m 301ms/step - AUC: 0.8433 - Precision: 0.7616 - Recall: 0.7642 - accuracy: 0.7649 - loss: 0.4915 - val_AUC: 0.8533 - val_Precision: 0.7184 - val_Recall: 0.8520 - val_accuracy: 0.7590 - val_loss: 0.5186\n",
      "Epoch 8/25\n",
      "\u001b[1m250/250\u001b[0m \u001b[32m━━━━━━━━━━━━━━━━━━━━\u001b[0m\u001b[37m\u001b[0m \u001b[1m69s\u001b[0m 246ms/step - AUC: 0.8585 - Precision: 0.7803 - Recall: 0.7842 - accuracy: 0.7798 - loss: 0.4685 - val_AUC: 0.8553 - val_Precision: 0.7799 - val_Recall: 0.7510 - val_accuracy: 0.7695 - val_loss: 0.4815\n",
      "Epoch 9/25\n",
      "\u001b[1m250/250\u001b[0m \u001b[32m━━━━━━━━━━━━━━━━━━━━\u001b[0m\u001b[37m\u001b[0m \u001b[1m53s\u001b[0m 211ms/step - AUC: 0.8707 - Precision: 0.7908 - Recall: 0.8000 - accuracy: 0.7900 - loss: 0.4490 - val_AUC: 0.8750 - val_Precision: 0.7307 - val_Recall: 0.8710 - val_accuracy: 0.7750 - val_loss: 0.4800\n",
      "Epoch 10/25\n",
      "\u001b[1m250/250\u001b[0m \u001b[32m━━━━━━━━━━━━━━━━━━━━\u001b[0m\u001b[37m\u001b[0m \u001b[1m44s\u001b[0m 175ms/step - AUC: 0.8784 - Precision: 0.7873 - Recall: 0.8026 - accuracy: 0.7926 - loss: 0.4376 - val_AUC: 0.8673 - val_Precision: 0.6737 - val_Recall: 0.9310 - val_accuracy: 0.7400 - val_loss: 0.5476\n",
      "Epoch 11/25\n",
      "\u001b[1m250/250\u001b[0m \u001b[32m━━━━━━━━━━━━━━━━━━━━\u001b[0m\u001b[37m\u001b[0m \u001b[1m43s\u001b[0m 173ms/step - AUC: 0.8888 - Precision: 0.8071 - Recall: 0.8000 - accuracy: 0.8062 - loss: 0.4208 - val_AUC: 0.8724 - val_Precision: 0.7476 - val_Recall: 0.8530 - val_accuracy: 0.7825 - val_loss: 0.4626\n",
      "Epoch 12/25\n",
      "\u001b[1m250/250\u001b[0m \u001b[32m━━━━━━━━━━━━━━━━━━━━\u001b[0m\u001b[37m\u001b[0m \u001b[1m44s\u001b[0m 175ms/step - AUC: 0.8964 - Precision: 0.8116 - Recall: 0.8065 - accuracy: 0.8110 - loss: 0.4056 - val_AUC: 0.8849 - val_Precision: 0.8051 - val_Recall: 0.7930 - val_accuracy: 0.8005 - val_loss: 0.4362\n",
      "Epoch 13/25\n",
      "\u001b[1m250/250\u001b[0m \u001b[32m━━━━━━━━━━━━━━━━━━━━\u001b[0m\u001b[37m\u001b[0m \u001b[1m45s\u001b[0m 180ms/step - AUC: 0.8986 - Precision: 0.8139 - Recall: 0.8240 - accuracy: 0.8185 - loss: 0.4025 - val_AUC: 0.8754 - val_Precision: 0.7647 - val_Recall: 0.8190 - val_accuracy: 0.7835 - val_loss: 0.4582\n",
      "Epoch 14/25\n",
      "\u001b[1m250/250\u001b[0m \u001b[32m━━━━━━━━━━━━━━━━━━━━\u001b[0m\u001b[37m\u001b[0m \u001b[1m48s\u001b[0m 194ms/step - AUC: 0.9069 - Precision: 0.8276 - Recall: 0.8342 - accuracy: 0.8279 - loss: 0.3863 - val_AUC: 0.8852 - val_Precision: 0.7643 - val_Recall: 0.8560 - val_accuracy: 0.7960 - val_loss: 0.4430\n",
      "Epoch 15/25\n",
      "\u001b[1m250/250\u001b[0m \u001b[32m━━━━━━━━━━━━━━━━━━━━\u001b[0m\u001b[37m\u001b[0m \u001b[1m46s\u001b[0m 183ms/step - AUC: 0.9098 - Precision: 0.8247 - Recall: 0.8374 - accuracy: 0.8306 - loss: 0.3806 - val_AUC: 0.8894 - val_Precision: 0.7539 - val_Recall: 0.8790 - val_accuracy: 0.7960 - val_loss: 0.4416\n",
      "Epoch 16/25\n",
      "\u001b[1m250/250\u001b[0m \u001b[32m━━━━━━━━━━━━━━━━━━━━\u001b[0m\u001b[37m\u001b[0m \u001b[1m100s\u001b[0m 254ms/step - AUC: 0.9213 - Precision: 0.8368 - Recall: 0.8575 - accuracy: 0.8442 - loss: 0.3578 - val_AUC: 0.8821 - val_Precision: 0.7252 - val_Recall: 0.8920 - val_accuracy: 0.7770 - val_loss: 0.5013\n",
      "Epoch 17/25\n",
      "\u001b[1m250/250\u001b[0m \u001b[32m━━━━━━━━━━━━━━━━━━━━\u001b[0m\u001b[37m\u001b[0m \u001b[1m80s\u001b[0m 246ms/step - AUC: 0.9170 - Precision: 0.8305 - Recall: 0.8406 - accuracy: 0.8344 - loss: 0.3663 - val_AUC: 0.8836 - val_Precision: 0.7782 - val_Recall: 0.8420 - val_accuracy: 0.8010 - val_loss: 0.4635\n",
      "Epoch 18/25\n",
      "\u001b[1m250/250\u001b[0m \u001b[32m━━━━━━━━━━━━━━━━━━━━\u001b[0m\u001b[37m\u001b[0m \u001b[1m63s\u001b[0m 250ms/step - AUC: 0.9258 - Precision: 0.8427 - Recall: 0.8680 - accuracy: 0.8518 - loss: 0.3464 - val_AUC: 0.8929 - val_Precision: 0.7806 - val_Recall: 0.8610 - val_accuracy: 0.8095 - val_loss: 0.4327\n",
      "Epoch 19/25\n",
      "\u001b[1m250/250\u001b[0m \u001b[32m━━━━━━━━━━━━━━━━━━━━\u001b[0m\u001b[37m\u001b[0m \u001b[1m61s\u001b[0m 245ms/step - AUC: 0.9316 - Precision: 0.8432 - Recall: 0.8546 - accuracy: 0.8497 - loss: 0.3352 - val_AUC: 0.8958 - val_Precision: 0.7836 - val_Recall: 0.8620 - val_accuracy: 0.8120 - val_loss: 0.4341\n",
      "Epoch 20/25\n",
      "\u001b[1m250/250\u001b[0m \u001b[32m━━━━━━━━━━━━━━━━━━━━\u001b[0m\u001b[37m\u001b[0m \u001b[1m53s\u001b[0m 212ms/step - AUC: 0.9370 - Precision: 0.8574 - Recall: 0.8777 - accuracy: 0.8673 - loss: 0.3222 - val_AUC: 0.8911 - val_Precision: 0.8026 - val_Recall: 0.8050 - val_accuracy: 0.8035 - val_loss: 0.4386\n",
      "Epoch 21/25\n",
      "\u001b[1m250/250\u001b[0m \u001b[32m━━━━━━━━━━━━━━━━━━━━\u001b[0m\u001b[37m\u001b[0m \u001b[1m56s\u001b[0m 224ms/step - AUC: 0.9414 - Precision: 0.8653 - Recall: 0.8701 - accuracy: 0.8687 - loss: 0.3100 - val_AUC: 0.8908 - val_Precision: 0.7981 - val_Recall: 0.8300 - val_accuracy: 0.8100 - val_loss: 0.4395\n",
      "Epoch 22/25\n",
      "\u001b[1m250/250\u001b[0m \u001b[32m━━━━━━━━━━━━━━━━━━━━\u001b[0m\u001b[37m\u001b[0m \u001b[1m82s\u001b[0m 328ms/step - AUC: 0.9468 - Precision: 0.8671 - Recall: 0.8855 - accuracy: 0.8740 - loss: 0.2962 - val_AUC: 0.8973 - val_Precision: 0.8079 - val_Recall: 0.8370 - val_accuracy: 0.8190 - val_loss: 0.4244\n",
      "Epoch 23/25\n",
      "\u001b[1m250/250\u001b[0m \u001b[32m━━━━━━━━━━━━━━━━━━━━\u001b[0m\u001b[37m\u001b[0m \u001b[1m79s\u001b[0m 314ms/step - AUC: 0.9444 - Precision: 0.8643 - Recall: 0.8799 - accuracy: 0.8717 - loss: 0.3022 - val_AUC: 0.8928 - val_Precision: 0.7654 - val_Recall: 0.8840 - val_accuracy: 0.8065 - val_loss: 0.4542\n",
      "Epoch 24/25\n",
      "\u001b[1m250/250\u001b[0m \u001b[32m━━━━━━━━━━━━━━━━━━━━\u001b[0m\u001b[37m\u001b[0m \u001b[1m73s\u001b[0m 290ms/step - AUC: 0.9484 - Precision: 0.8674 - Recall: 0.8824 - accuracy: 0.8748 - loss: 0.2915 - val_AUC: 0.8990 - val_Precision: 0.7882 - val_Recall: 0.8450 - val_accuracy: 0.8090 - val_loss: 0.4367\n",
      "Epoch 25/25\n",
      "\u001b[1m250/250\u001b[0m \u001b[32m━━━━━━━━━━━━━━━━━━━━\u001b[0m\u001b[37m\u001b[0m \u001b[1m60s\u001b[0m 240ms/step - AUC: 0.9578 - Precision: 0.8783 - Recall: 0.8915 - accuracy: 0.8853 - loss: 0.2649 - val_AUC: 0.8995 - val_Precision: 0.7623 - val_Recall: 0.8820 - val_accuracy: 0.8035 - val_loss: 0.4585\n"
     ]
    },
    {
     "data": {
      "text/plain": [
       "<keras.src.callbacks.history.History at 0x28a5d2ba510>"
      ]
     },
     "execution_count": 20,
     "metadata": {},
     "output_type": "execute_result"
    }
   ],
   "source": [
    "cnn.fit(x = training_set, validation_data = test_set, epochs = 25)"
   ]
  },
  {
   "cell_type": "markdown",
   "metadata": {},
   "source": [
    "### Making single Prediction"
   ]
  },
  {
   "cell_type": "markdown",
   "metadata": {},
   "source": [
    "Setting axis=0 adds the new dimension at the start of the array, changing test_image from a 3D array (height, width, channels) to a 4D array (1, height, width, channels), where 1 represents the batch size.\n",
    "\n",
    "if test_image originally has a shape of (64, 64, 3), after using np.expand_dims, the shape becomes (1, 64, 64, 3). This allows the model to process the single image as a batch with a single sample."
   ]
  },
  {
   "cell_type": "code",
   "execution_count": 34,
   "metadata": {},
   "outputs": [
    {
     "name": "stdout",
     "output_type": "stream",
     "text": [
      "\u001b[1m1/1\u001b[0m \u001b[32m━━━━━━━━━━━━━━━━━━━━\u001b[0m\u001b[37m\u001b[0m \u001b[1m0s\u001b[0m 47ms/step\n"
     ]
    }
   ],
   "source": [
    "import numpy as np\n",
    "from keras.preprocessing import image\n",
    "test_image = image.load_img('dataset/single_prediction/cat_or_dog_1.jpg', target_size = (64,64))\n",
    "# predict method expects that to be in 2d array format\n",
    "test_image = image.img_to_array(test_image)\n",
    "# since the model has been trained with batch size of 32 hence single image has to be sent as a batch\n",
    "test_image = np.expand_dims(test_image, axis = 0)\n",
    "result = cnn.predict(test_image/255.)\n",
    "training_set.class_indices\n",
    "if result[0][0] > 0.5:\n",
    "    prediction = 'dog'\n",
    "else:\n",
    "    prediction = 'cat'"
   ]
  },
  {
   "cell_type": "code",
   "execution_count": 35,
   "metadata": {},
   "outputs": [
    {
     "name": "stdout",
     "output_type": "stream",
     "text": [
      "dog\n"
     ]
    }
   ],
   "source": [
    "print(prediction)"
   ]
  }
 ],
 "metadata": {
  "kernelspec": {
   "display_name": "Python 3",
   "language": "python",
   "name": "python3"
  },
  "language_info": {
   "codemirror_mode": {
    "name": "ipython",
    "version": 3
   },
   "file_extension": ".py",
   "mimetype": "text/x-python",
   "name": "python",
   "nbconvert_exporter": "python",
   "pygments_lexer": "ipython3",
   "version": "3.12.3"
  }
 },
 "nbformat": 4,
 "nbformat_minor": 2
}
